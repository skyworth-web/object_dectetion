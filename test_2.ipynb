{
 "cells": [
  {
   "cell_type": "code",
   "execution_count": null,
   "metadata": {},
   "outputs": [],
   "source": [
    "import cv2\n",
    "import numpy as np\n",
    "from ultralytics import YOLO\n"
   ]
  },
  {
   "cell_type": "code",
   "execution_count": null,
   "metadata": {},
   "outputs": [],
   "source": [
    "\n",
    "# ----------------------------------------\n",
    "# 🔧 CONFIGURATION\n",
    "# ----------------------------------------\n",
    "VIDEO_PATH = \"dog_and_cat.mp4\"              # Input video file\n",
    "OUTPUT_PATH = \"output.mp4\"            # Output video file (with boxes)\n",
    "YOLO_MODEL = \"yolov8m.pt\"             # More accurate than yolov8n\n",
    "SELECTED_CLASSES = ['person', 'dog', 'cat']  # Choose classes to detect\n",
    "CONF_THRESHOLD = 0.25\n"
   ]
  },
  {
   "cell_type": "code",
   "execution_count": null,
   "metadata": {},
   "outputs": [],
   "source": [
    "\n",
    "model = YOLO(YOLO_MODEL)\n",
    "COCO_CLASSES = model.names\n"
   ]
  },
  {
   "cell_type": "code",
   "execution_count": null,
   "metadata": {},
   "outputs": [],
   "source": [
    "\n",
    "\n",
    "cap = cv2.VideoCapture(VIDEO_PATH)\n",
    "ret, frame = cap.read()\n",
    "if not ret:\n",
    "    print(\"❌ Cannot read video. Exiting.\")\n",
    "    cap.release()\n",
    "    exit()\n",
    "\n",
    "h, w = frame.shape[:2]\n",
    "frame_center = np.array([w / 2, h / 2])\n",
    "\n",
    "# Prepare video writer\n",
    "fourcc = cv2.VideoWriter_fourcc(*'mp4v')\n",
    "out_writer = cv2.VideoWriter(OUTPUT_PATH, fourcc, 20.0, (w, h))\n",
    "\n",
    "print(f\"🚀 Starting detection on {VIDEO_PATH}...\")\n",
    "print(f\"📦 Saving to {OUTPUT_PATH}\")\n",
    "print(f\"📏 Frame size: {w}x{h}\\n\")\n",
    "\n",
    "def get_relative_position(box_center, frame_center):\n",
    "    x_rel = 2 * (box_center[0] - frame_center[0]) / frame_center[0]\n",
    "    y_rel = 2 * (box_center[1] - frame_center[1]) / frame_center[1]\n",
    "    return round(x_rel, 2), round(y_rel, 2)\n",
    "\n",
    "frame_idx = 0\n",
    "try:\n",
    "    while cap.isOpened():\n",
    "        ret, frame = cap.read()\n",
    "        if not ret:\n",
    "            break\n",
    "\n",
    "        results = model(frame, conf=CONF_THRESHOLD)[0]\n",
    "        annotated_frame = frame.copy()\n",
    "\n",
    "        for i, det in enumerate(results.boxes):\n",
    "            cls_id = int(det.cls[0])\n",
    "            cls_name = COCO_CLASSES[cls_id]\n",
    "            conf = float(det.conf[0])\n",
    "\n",
    "            if cls_name not in SELECTED_CLASSES:\n",
    "                continue\n",
    "\n",
    "            x1, y1, x2, y2 = map(int, det.xyxy[0])\n",
    "            box_center = np.array([(x1 + x2) / 2, (y1 + y2) / 2])\n",
    "            rel_x, rel_y = get_relative_position(box_center, frame_center)\n",
    "\n",
    "            label = f\"{cls_name} {conf:.2f} [{rel_x}, {rel_y}]\"\n",
    "            cv2.rectangle(annotated_frame, (x1, y1), (x2, y2), (0, 255, 0), 2)\n",
    "            cv2.putText(annotated_frame, label, (x1, y1 - 10),\n",
    "                        cv2.FONT_HERSHEY_SIMPLEX, 0.5, (255, 255, 255), 2)\n",
    "\n",
    "            print(f\"[Frame {frame_idx}] {label}\")\n",
    "\n",
    "        # Show streaming video\n",
    "        cv2.imshow(\"YOLOv8 Detection\", annotated_frame)\n",
    "\n",
    "        # Save to output video\n",
    "        out_writer.write(annotated_frame)\n",
    "\n",
    "        if cv2.waitKey(1) & 0xFF == ord('q'):\n",
    "            print(\"🛑 Interrupted by user.\")\n",
    "            break\n",
    "\n",
    "        frame_idx += 1\n",
    "\n",
    "except KeyboardInterrupt:\n",
    "    print(\"🛑 Keyboard Interrupt. Exiting.\")\n",
    "\n",
    "finally:\n",
    "    cap.release()\n",
    "    out_writer.release()\n",
    "    cv2.destroyAllWindows()\n",
    "    print(\"✅ Video processing complete.\")\n"
   ]
  }
 ],
 "metadata": {
  "kernelspec": {
   "display_name": ".venv",
   "language": "python",
   "name": "python3"
  },
  "language_info": {
   "codemirror_mode": {
    "name": "ipython",
    "version": 3
   },
   "file_extension": ".py",
   "mimetype": "text/x-python",
   "name": "python",
   "nbconvert_exporter": "python",
   "pygments_lexer": "ipython3",
   "version": "3.11.9"
  }
 },
 "nbformat": 4,
 "nbformat_minor": 2
}
